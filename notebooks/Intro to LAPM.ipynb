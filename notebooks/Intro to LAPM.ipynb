{
 "cells": [
  {
   "cell_type": "markdown",
   "metadata": {},
   "source": [
    "# Introduction to LAPM\n",
    "LAPM is a python package for the analysis of linear autonomous pool (compartmental) models. It can be used to obtain a large set of different system-level diagnostics of compartmental models. This can be done either in symbolic or numeric form. In this notebook, we will introduce the basics of the package.\n",
    "\n",
    "We assume that you have already installed the package following the instructions provided in the download page. After the package is installed, you can imported following the commands:"
   ]
  },
  {
   "cell_type": "code",
   "execution_count": 1,
   "metadata": {},
   "outputs": [],
   "source": [
    "from sympy import *\n",
    "from LAPM import *\n",
    "from LAPM.linear_autonomous_pool_model import LinearAutonomousPoolModel"
   ]
  },
  {
   "cell_type": "markdown",
   "metadata": {},
   "source": [
    "In the second line above, we imported also the linear_autonomous_pool_model module which contains most of the functions required for the examples in this notebook.\n",
    "We will create now a simple two-compartment model with the following syntax"
   ]
  },
  {
   "cell_type": "code",
   "execution_count": 17,
   "metadata": {},
   "outputs": [],
   "source": [
    "lambda_1, lambda_2, alpha, u_1, u_2 = symbols('lambda_1 lambda_2 alpha u_1 u_2', positive=True)\n",
    "A = Matrix([[     -lambda_1,        0],\n",
    "            [alpha*lambda_1, -lambda_2]])\n",
    "u = Matrix(2, 1, [u_1, u_2])"
   ]
  },
  {
   "cell_type": "markdown",
   "metadata": {},
   "source": [
    "Notice that we created a symblic version of the model with no assignment of values to the parameters. This is useful because we can make computations in symbolic form only, or we can assign parameter values later. \n",
    "With the compartmental matrix and the input vector created above, we can now create a compartmental model as "
   ]
  },
  {
   "cell_type": "code",
   "execution_count": 23,
   "metadata": {},
   "outputs": [],
   "source": [
    "M=LinearAutonomousPoolModel(u, A)"
   ]
  },
  {
   "cell_type": "markdown",
   "metadata": {},
   "source": [
    "## Symbolic computations\n",
    "We can use now the set of functions available in LAPM to this model. For example, we can compute the mean system age as"
   ]
  },
  {
   "cell_type": "code",
   "execution_count": 24,
   "metadata": {},
   "outputs": [
    {
     "data": {
      "text/plain": [
       "(alpha*u_1/lambda_2 + u_2/lambda_2)/(lambda_2*(alpha*u_1/lambda_2 + u_2/lambda_2 + u_1/lambda_1)) + u_1*(alpha/lambda_2 + 1/lambda_1)/(lambda_1*(alpha*u_1/lambda_2 + u_2/lambda_2 + u_1/lambda_1))"
      ]
     },
     "execution_count": 24,
     "metadata": {},
     "output_type": "execute_result"
    }
   ],
   "source": [
    "M.A_expected_value"
   ]
  },
  {
   "cell_type": "markdown",
   "metadata": {},
   "source": [
    "For an output easier to read on the screen"
   ]
  },
  {
   "cell_type": "code",
   "execution_count": 25,
   "metadata": {},
   "outputs": [
    {
     "name": "stdout",
     "output_type": "stream",
     "text": [
      "     α⋅u₁   u₂               ⎛α    1 ⎞   \n",
      "     ──── + ──            u₁⋅⎜── + ──⎟   \n",
      "      λ₂    λ₂               ⎝λ₂   λ₁⎠   \n",
      "─────────────────── + ───────────────────\n",
      "   ⎛α⋅u₁   u₂   u₁⎞      ⎛α⋅u₁   u₂   u₁⎞\n",
      "λ₂⋅⎜──── + ── + ──⎟   λ₁⋅⎜──── + ── + ──⎟\n",
      "   ⎝ λ₂    λ₂   λ₁⎠      ⎝ λ₂    λ₂   λ₁⎠\n"
     ]
    }
   ],
   "source": [
    "pprint(M.A_expected_value)"
   ]
  },
  {
   "cell_type": "markdown",
   "metadata": {},
   "source": [
    "Latex output can be obtained as"
   ]
  },
  {
   "cell_type": "code",
   "execution_count": 26,
   "metadata": {},
   "outputs": [
    {
     "name": "stdout",
     "output_type": "stream",
     "text": [
      "\\frac{\\frac{\\alpha u_{1}}{\\lambda_{2}} + \\frac{u_{2}}{\\lambda_{2}}}{\\lambda_{2} \\left(\\frac{\\alpha u_{1}}{\\lambda_{2}} + \\frac{u_{2}}{\\lambda_{2}} + \\frac{u_{1}}{\\lambda_{1}}\\right)} + \\frac{u_{1} \\left(\\frac{\\alpha}{\\lambda_{2}} + \\frac{1}{\\lambda_{1}}\\right)}{\\lambda_{1} \\left(\\frac{\\alpha u_{1}}{\\lambda_{2}} + \\frac{u_{2}}{\\lambda_{2}} + \\frac{u_{1}}{\\lambda_{1}}\\right)}\n"
     ]
    }
   ],
   "source": [
    "print(latex(M.A_expected_value))"
   ]
  },
  {
   "cell_type": "markdown",
   "metadata": {},
   "source": [
    "You can copy and paste this Latex ouput to a markdown or latex document\n",
    "$$\n",
    "\\frac{\\frac{\\alpha u_{1}}{\\lambda_{2}} + \\frac{u_{2}}{\\lambda_{2}}}{\\lambda_{2} \\left(\\frac{\\alpha u_{1}}{\\lambda_{2}} + \\frac{u_{2}}{\\lambda_{2}} + \\frac{u_{1}}{\\lambda_{1}}\\right)} + \\frac{u_{1} \\left(\\frac{\\alpha}{\\lambda_{2}} + \\frac{1}{\\lambda_{1}}\\right)}{\\lambda_{1} \\left(\\frac{\\alpha u_{1}}{\\lambda_{2}} + \\frac{u_{2}}{\\lambda_{2}} + \\frac{u_{1}}{\\lambda_{1}}\\right)}\n",
    "$$"
   ]
  },
  {
   "cell_type": "markdown",
   "metadata": {},
   "source": [
    "## Numerical calculations\n",
    "In most cases, we actually want to perform numerical computations of system-level diagnostics. In this case, we need first to assign values to the elements of the compartmental system. For instance, we can use the subs function to assign numerical values to existing matrices and vectors:"
   ]
  },
  {
   "cell_type": "code",
   "execution_count": 57,
   "metadata": {},
   "outputs": [],
   "source": [
    "u1=u.subs({u_1: 2, u_2: 4})\n",
    "A1=A.subs({lambda_1: 0.8, lambda_2: 0.01, alpha: 0.13})"
   ]
  },
  {
   "cell_type": "markdown",
   "metadata": {},
   "source": [
    "We take now these numerical arguments and create a new compartmental system and compute the mean system age as above"
   ]
  },
  {
   "cell_type": "code",
   "execution_count": 58,
   "metadata": {},
   "outputs": [
    {
     "data": {
      "text/plain": [
       "99.4997082847141"
      ]
     },
     "execution_count": 58,
     "metadata": {},
     "output_type": "execute_result"
    }
   ],
   "source": [
    "M1=LinearAutonomousPoolModel(u1, A1)\n",
    "M1.A_expected_value"
   ]
  },
  {
   "cell_type": "markdown",
   "metadata": {},
   "source": [
    "Other useful system diagnostics are:"
   ]
  },
  {
   "cell_type": "code",
   "execution_count": 59,
   "metadata": {},
   "outputs": [
    {
     "data": {
      "text/plain": [
       "99.99249461290282"
      ]
     },
     "execution_count": 59,
     "metadata": {},
     "output_type": "execute_result"
    }
   ],
   "source": [
    "M1.A_standard_deviation # standard deviation of the system age distribution"
   ]
  },
  {
   "cell_type": "code",
   "execution_count": 60,
   "metadata": {},
   "outputs": [
    {
     "data": {
      "text/plain": [
       "68.80680584095865"
      ]
     },
     "execution_count": 60,
     "metadata": {},
     "output_type": "execute_result"
    }
   ],
   "source": [
    "M1.A_quantile(0.5) # Median (50% quantile) of the system age distribution"
   ]
  },
  {
   "cell_type": "code",
   "execution_count": 61,
   "metadata": {},
   "outputs": [
    {
     "data": {
      "text/plain": [
       "71.4166666666667"
      ]
     },
     "execution_count": 61,
     "metadata": {},
     "output_type": "execute_result"
    }
   ],
   "source": [
    "M1.T_expected_value #Mean transit time"
   ]
  },
  {
   "cell_type": "code",
   "execution_count": 62,
   "metadata": {},
   "outputs": [
    {
     "data": {
      "text/plain": [
       "95.45435936730298"
      ]
     },
     "execution_count": 62,
     "metadata": {},
     "output_type": "execute_result"
    }
   ],
   "source": [
    "M1.T_standard_deviation # standard deviation of the transit time distribution"
   ]
  },
  {
   "cell_type": "code",
   "execution_count": 63,
   "metadata": {},
   "outputs": [
    {
     "data": {
      "text/plain": [
       "35.14291412333978"
      ]
     },
     "execution_count": 63,
     "metadata": {},
     "output_type": "execute_result"
    }
   ],
   "source": [
    "M1.T_quantile(0.5) # Median (50% quantile) of the transit time distribution"
   ]
  },
  {
   "cell_type": "code",
   "execution_count": 64,
   "metadata": {},
   "outputs": [
    {
     "data": {
      "text/plain": [
       "Matrix([\n",
       "[            1.25],\n",
       "[100.076291079812]])"
      ]
     },
     "execution_count": 64,
     "metadata": {},
     "output_type": "execute_result"
    }
   ],
   "source": [
    "M1.a_expected_value # Mean age vector of individual pools"
   ]
  },
  {
   "cell_type": "code",
   "execution_count": 65,
   "metadata": {},
   "outputs": [
    {
     "data": {
      "text/plain": [
       "array([ 0.86643398, 69.39194502])"
      ]
     },
     "execution_count": 65,
     "metadata": {},
     "output_type": "execute_result"
    }
   ],
   "source": [
    "M1.a_quantile(0.5) # Median age of individual pools"
   ]
  },
  {
   "cell_type": "code",
   "execution_count": 66,
   "metadata": {},
   "outputs": [
    {
     "data": {
      "text/plain": [
       "0.232/(s + 0.8) + 0.00666666666666667/(s + 0.01) + 0.000346666666666667/((s + 0.01)*(s + 0.8))"
      ]
     },
     "execution_count": 66,
     "metadata": {},
     "output_type": "execute_result"
    }
   ],
   "source": [
    "M1.T_laplace"
   ]
  },
  {
   "cell_type": "code",
   "execution_count": 67,
   "metadata": {},
   "outputs": [
    {
     "data": {
      "text/plain": [
       "0.00406067677946324/(s + 0.8) + 0.0099416569428238/(s + 0.01) + 6.06767794632439e-6/((s + 0.01)*(s + 0.8))"
      ]
     },
     "execution_count": 67,
     "metadata": {},
     "output_type": "execute_result"
    }
   ],
   "source": [
    "M1.A_laplace"
   ]
  },
  {
   "cell_type": "code",
   "execution_count": 68,
   "metadata": {},
   "outputs": [
    {
     "data": {
      "text/plain": [
       "Matrix([\n",
       "[1.74],\n",
       "[4.26]])"
      ]
     },
     "execution_count": 68,
     "metadata": {},
     "output_type": "execute_result"
    }
   ],
   "source": [
    "M1.r_compartments # release flux of individual compartments"
   ]
  },
  {
   "cell_type": "code",
   "execution_count": 69,
   "metadata": {},
   "outputs": [
    {
     "data": {
      "text/plain": [
       "6.00000000000000"
      ]
     },
     "execution_count": 69,
     "metadata": {},
     "output_type": "execute_result"
    }
   ],
   "source": [
    "M1.r_total # Total release flux"
   ]
  },
  {
   "cell_type": "code",
   "execution_count": 74,
   "metadata": {},
   "outputs": [
    {
     "data": {
      "text/plain": [
       "-0.32626427406199*log(2) + 0.489396411092985*log(3) + 2.21020273307626"
      ]
     },
     "execution_count": 74,
     "metadata": {},
     "output_type": "execute_result"
    }
   ],
   "source": [
    "M1.entropy_per_jump"
   ]
  },
  {
   "cell_type": "code",
   "execution_count": 55,
   "metadata": {},
   "outputs": [
    {
     "data": {
      "text/plain": [
       "-0.666666666666667*log(2) + 1.0*log(3) + 2.95715004792764"
      ]
     },
     "execution_count": 55,
     "metadata": {},
     "output_type": "execute_result"
    }
   ],
   "source": [
    "M1.entropy_per_cycle"
   ]
  },
  {
   "cell_type": "code",
   "execution_count": 56,
   "metadata": {},
   "outputs": [
    {
     "data": {
      "text/plain": [
       "-0.0865384615384615*log(2) + 0.129807692307692*log(3) + 0.383860823529068"
      ]
     },
     "execution_count": 56,
     "metadata": {},
     "output_type": "execute_result"
    }
   ],
   "source": [
    "M1.entropy_rate"
   ]
  },
  {
   "cell_type": "code",
   "execution_count": null,
   "metadata": {},
   "outputs": [],
   "source": []
  }
 ],
 "metadata": {
  "kernelspec": {
   "display_name": "Python 3",
   "language": "python",
   "name": "python3"
  },
  "language_info": {
   "codemirror_mode": {
    "name": "ipython",
    "version": 3
   },
   "file_extension": ".py",
   "mimetype": "text/x-python",
   "name": "python",
   "nbconvert_exporter": "python",
   "pygments_lexer": "ipython3",
   "version": "3.6.3"
  }
 },
 "nbformat": 4,
 "nbformat_minor": 2
}
