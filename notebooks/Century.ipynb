{
 "cells": [
  {
   "cell_type": "markdown",
   "metadata": {},
   "source": [
    "# Ages and transit time distribution from Century\n",
    "This notebook shows how to use the LAPM package to compute system level metrics for the Century model."
   ]
  },
  {
   "cell_type": "code",
   "execution_count": 1,
   "metadata": {},
   "outputs": [],
   "source": [
    "from sympy import *\n",
    "from LAPM import *\n",
    "from LAPM.linear_autonomous_pool_model import LinearAutonomousPoolModel"
   ]
  },
  {
   "cell_type": "markdown",
   "metadata": {},
   "source": [
    "In the second line above, we imported also the linear_autonomous_pool_model module which contains most of the functions required for the examples in this notebook.\n",
    "We will create now a compartmental representation of Century using the original parameter values described in Parton et al. (1987)."
   ]
  },
  {
   "cell_type": "code",
   "execution_count": 11,
   "metadata": {},
   "outputs": [],
   "source": [
    "B=Matrix([[-2.927714,   0,  0,   0,  0,  0,  0.000000],\n",
    "           [0, -14.560,  0,   0,  0,  0,  0],\n",
    "           [0,   0, -3.6211195,   0,  0,  0,  0],\n",
    "           [0,   0,  0, -18.20,  0,  0,  0],\n",
    "           [1.449218, 6.552, 1.4665534, 8.19, -3.731, 0.082992,  0.003042],\n",
    "           [0.204940, 0,  0.2534784,   0,  2.193828, -0.1976,  0],\n",
    "           [0,   0,  0,   0,  0.014924,  0.005928, -0.006760]])\n",
    "u=Matrix(7,1,[3.58800, 18.97804, 4.68, 24.75396, 0, 0, 0])"
   ]
  },
  {
   "cell_type": "code",
   "execution_count": 12,
   "metadata": {},
   "outputs": [
    {
     "data": {
      "text/latex": [
       "$\\displaystyle 79.9346769131668$"
      ],
      "text/plain": [
       "79.9346769131668"
      ]
     },
     "execution_count": 12,
     "metadata": {},
     "output_type": "execute_result"
    }
   ],
   "source": [
    "M=LinearAutonomousPoolModel(u, B, True)\n",
    "M.A_expected_value"
   ]
  },
  {
   "cell_type": "markdown",
   "metadata": {},
   "source": [
    "Other useful system diagnostics are:"
   ]
  },
  {
   "cell_type": "code",
   "execution_count": 13,
   "metadata": {},
   "outputs": [
    {
     "data": {
      "text/plain": [
       "16.45239468609507"
      ]
     },
     "execution_count": 13,
     "metadata": {},
     "output_type": "execute_result"
    }
   ],
   "source": [
    "M.A_quantile(0.5) # Median (50% quantile) of the system age distribution"
   ]
  },
  {
   "cell_type": "code",
   "execution_count": 14,
   "metadata": {},
   "outputs": [
    {
     "data": {
      "text/latex": [
       "$\\displaystyle 4.14079989282277$"
      ],
      "text/plain": [
       "4.14079989282277"
      ]
     },
     "execution_count": 14,
     "metadata": {},
     "output_type": "execute_result"
    }
   ],
   "source": [
    "M.T_expected_value #Mean transit time"
   ]
  },
  {
   "cell_type": "code",
   "execution_count": 15,
   "metadata": {},
   "outputs": [
    {
     "data": {
      "text/plain": [
       "13.765558504224721"
      ]
     },
     "execution_count": 15,
     "metadata": {},
     "output_type": "execute_result"
    }
   ],
   "source": [
    "M.T_quantile(0.95) # Median (50% quantile) of the transit time distribution"
   ]
  },
  {
   "cell_type": "code",
   "execution_count": 16,
   "metadata": {},
   "outputs": [
    {
     "data": {
      "text/latex": [
       "$\\displaystyle \\left[\\begin{matrix}0.341563417738208\\\\0.0686813186813198\\\\0.276157691012412\\\\0.0549450549450574\\\\4.23873284307247\\\\9.18117385427482\\\\156.219108831317\\end{matrix}\\right]$"
      ],
      "text/plain": [
       "Matrix([\n",
       "[ 0.341563417738208],\n",
       "[0.0686813186813198],\n",
       "[ 0.276157691012412],\n",
       "[0.0549450549450574],\n",
       "[  4.23873284307247],\n",
       "[  9.18117385427482],\n",
       "[  156.219108831317]])"
      ]
     },
     "execution_count": 16,
     "metadata": {},
     "output_type": "execute_result"
    }
   ],
   "source": [
    "M.a_expected_value # Mean age vector of individual pools"
   ]
  },
  {
   "cell_type": "code",
   "execution_count": 19,
   "metadata": {},
   "outputs": [
    {
     "data": {
      "text/plain": [
       "array([1.02323255e+00, 2.05750843e-01, 8.27294508e-01, 1.64600674e-01,\n",
       "       1.36322290e+01, 2.25574777e+01, 4.55638688e+02])"
      ]
     },
     "execution_count": 19,
     "metadata": {},
     "output_type": "execute_result"
    }
   ],
   "source": [
    "M.a_quantile(0.95) # 95% quantile of individual pools"
   ]
  },
  {
   "cell_type": "code",
   "execution_count": 20,
   "metadata": {},
   "outputs": [
    {
     "data": {
      "text/plain": [
       "array([1.75199129e-02, 3.52289113e-03, 1.41650377e-02, 2.81831283e-03,\n",
       "       6.06130386e-02, 6.78460345e-01, 1.31186571e+01])"
      ]
     },
     "execution_count": 20,
     "metadata": {},
     "output_type": "execute_result"
    }
   ],
   "source": [
    "M.a_quantile(0.05) # 5% quantiles of individual pools"
   ]
  },
  {
   "cell_type": "code",
   "execution_count": null,
   "metadata": {},
   "outputs": [],
   "source": []
  }
 ],
 "metadata": {
  "kernelspec": {
   "display_name": "Python 3",
   "language": "python",
   "name": "python3"
  },
  "language_info": {
   "codemirror_mode": {
    "name": "ipython",
    "version": 3
   },
   "file_extension": ".py",
   "mimetype": "text/x-python",
   "name": "python",
   "nbconvert_exporter": "python",
   "pygments_lexer": "ipython3",
   "version": "3.8.5"
  }
 },
 "nbformat": 4,
 "nbformat_minor": 4
}
