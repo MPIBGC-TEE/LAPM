{
 "cells": [
  {
   "cell_type": "markdown",
   "metadata": {},
   "source": [
    "# Ages and transit time distribution from Century\n",
    "This notebook shows how to use the LAPM package to compute system level metrics for the Century model."
   ]
  },
  {
   "cell_type": "code",
   "execution_count": 1,
   "metadata": {},
   "outputs": [],
   "source": [
    "from sympy import *\n",
    "from LAPM import *\n",
    "from LAPM.linear_autonomous_pool_model import LinearAutonomousPoolModel"
   ]
  },
  {
   "cell_type": "markdown",
   "metadata": {},
   "source": [
    "In the second line above, we imported also the linear_autonomous_pool_model module which contains most of the functions required for the examples in this notebook.\n",
    "We will create now a compartmental representation of Century using the original parameter values described in Parton et al. (1987)."
   ]
  },
  {
   "cell_type": "code",
   "execution_count": 2,
   "metadata": {},
   "outputs": [],
   "source": [
    "lambda_1, lambda_2, alpha, u_1, u_2 = symbols('lambda_1 lambda_2 alpha u_1 u_2', positive=True)\n",
    "A = Matrix([[     -lambda_1,        0],\n",
    "            [alpha*lambda_1, -lambda_2]])\n",
    "u = Matrix(2, 1, [u_1, u_2])"
   ]
  },
  {
   "cell_type": "markdown",
   "metadata": {},
   "source": [
    "Notice that we created a symblic version of the model with no assignment of values to the parameters. This is useful because we can make computations in symbolic form only, or we can assign parameter values later. \n",
    "With the compartmental matrix and the input vector created above, we can now create a compartmental model as "
   ]
  },
  {
   "cell_type": "code",
   "execution_count": 3,
   "metadata": {},
   "outputs": [],
   "source": [
    "M=LinearAutonomousPoolModel(u, A)"
   ]
  },
  {
   "cell_type": "markdown",
   "metadata": {},
   "source": [
    "## Symbolic computations\n",
    "We can use now the set of functions available in LAPM with this model. For example, we can compute the mean system age as"
   ]
  },
  {
   "cell_type": "code",
   "execution_count": 4,
   "metadata": {},
   "outputs": [
    {
     "data": {
      "text/plain": [
       "(alpha*u_1/lambda_2 + u_2/lambda_2)/(lambda_2*(alpha*u_1/lambda_2 + u_2/lambda_2 + u_1/lambda_1)) + u_1*(alpha/lambda_2 + 1/lambda_1)/(lambda_1*(alpha*u_1/lambda_2 + u_2/lambda_2 + u_1/lambda_1))"
      ]
     },
     "execution_count": 4,
     "metadata": {},
     "output_type": "execute_result"
    }
   ],
   "source": [
    "M.A_expected_value"
   ]
  },
  {
   "cell_type": "markdown",
   "metadata": {},
   "source": [
    "For an output easier to read on the screen"
   ]
  },
  {
   "cell_type": "code",
   "execution_count": 5,
   "metadata": {},
   "outputs": [
    {
     "name": "stdout",
     "output_type": "stream",
     "text": [
      "     α⋅u₁   u₂               ⎛α    1 ⎞   \n",
      "     ──── + ──            u₁⋅⎜── + ──⎟   \n",
      "      λ₂    λ₂               ⎝λ₂   λ₁⎠   \n",
      "─────────────────── + ───────────────────\n",
      "   ⎛α⋅u₁   u₂   u₁⎞      ⎛α⋅u₁   u₂   u₁⎞\n",
      "λ₂⋅⎜──── + ── + ──⎟   λ₁⋅⎜──── + ── + ──⎟\n",
      "   ⎝ λ₂    λ₂   λ₁⎠      ⎝ λ₂    λ₂   λ₁⎠\n"
     ]
    }
   ],
   "source": [
    "pprint(M.A_expected_value)"
   ]
  },
  {
   "cell_type": "markdown",
   "metadata": {},
   "source": [
    "Latex output can be obtained as"
   ]
  },
  {
   "cell_type": "code",
   "execution_count": 6,
   "metadata": {},
   "outputs": [
    {
     "name": "stdout",
     "output_type": "stream",
     "text": [
      "\\frac{\\frac{\\alpha u_{1}}{\\lambda_{2}} + \\frac{u_{2}}{\\lambda_{2}}}{\\lambda_{2} \\left(\\frac{\\alpha u_{1}}{\\lambda_{2}} + \\frac{u_{2}}{\\lambda_{2}} + \\frac{u_{1}}{\\lambda_{1}}\\right)} + \\frac{u_{1} \\left(\\frac{\\alpha}{\\lambda_{2}} + \\frac{1}{\\lambda_{1}}\\right)}{\\lambda_{1} \\left(\\frac{\\alpha u_{1}}{\\lambda_{2}} + \\frac{u_{2}}{\\lambda_{2}} + \\frac{u_{1}}{\\lambda_{1}}\\right)}\n"
     ]
    }
   ],
   "source": [
    "print(latex(M.A_expected_value))"
   ]
  },
  {
   "cell_type": "markdown",
   "metadata": {},
   "source": [
    "You can copy and paste this Latex ouput to a markdown or latex document\n",
    "$$\n",
    "\\frac{\\frac{\\alpha u_{1}}{\\lambda_{2}} + \\frac{u_{2}}{\\lambda_{2}}}{\\lambda_{2} \\left(\\frac{\\alpha u_{1}}{\\lambda_{2}} + \\frac{u_{2}}{\\lambda_{2}} + \\frac{u_{1}}{\\lambda_{1}}\\right)} + \\frac{u_{1} \\left(\\frac{\\alpha}{\\lambda_{2}} + \\frac{1}{\\lambda_{1}}\\right)}{\\lambda_{1} \\left(\\frac{\\alpha u_{1}}{\\lambda_{2}} + \\frac{u_{2}}{\\lambda_{2}} + \\frac{u_{1}}{\\lambda_{1}}\\right)}\n",
    "$$"
   ]
  },
  {
   "cell_type": "markdown",
   "metadata": {},
   "source": [
    "## Numerical calculations\n",
    "In most cases, we actually want to perform numerical computations of system-level diagnostics. In this case, we need first to assign values to the elements of the compartmental system. For instance, we can use the subs function to assign numerical values to existing matrices and vectors:"
   ]
  },
  {
   "cell_type": "code",
   "execution_count": 7,
   "metadata": {},
   "outputs": [],
   "source": [
    "u1=u.subs({u_1: 2, u_2: 4})\n",
    "A1=A.subs({lambda_1: 0.8, lambda_2: 0.01, alpha: 0.13})"
   ]
  },
  {
   "cell_type": "markdown",
   "metadata": {},
   "source": [
    "We take now these numerical arguments and create a new compartmental system and compute the mean system age as above"
   ]
  },
  {
   "cell_type": "code",
   "execution_count": 8,
   "metadata": {},
   "outputs": [
    {
     "data": {
      "text/plain": [
       "99.4997082847141"
      ]
     },
     "execution_count": 8,
     "metadata": {},
     "output_type": "execute_result"
    }
   ],
   "source": [
    "M1=LinearAutonomousPoolModel(u1, A1)\n",
    "M1.A_expected_value"
   ]
  },
  {
   "cell_type": "markdown",
   "metadata": {},
   "source": [
    "Other useful system diagnostics are:"
   ]
  },
  {
   "cell_type": "code",
   "execution_count": 9,
   "metadata": {},
   "outputs": [
    {
     "data": {
      "text/plain": [
       "99.99249461290282"
      ]
     },
     "execution_count": 9,
     "metadata": {},
     "output_type": "execute_result"
    }
   ],
   "source": [
    "M1.A_standard_deviation # standard deviation of the system age distribution"
   ]
  },
  {
   "cell_type": "code",
   "execution_count": 10,
   "metadata": {},
   "outputs": [
    {
     "data": {
      "text/plain": [
       "68.80680584095865"
      ]
     },
     "execution_count": 10,
     "metadata": {},
     "output_type": "execute_result"
    }
   ],
   "source": [
    "M1.A_quantile(0.5) # Median (50% quantile) of the system age distribution"
   ]
  },
  {
   "cell_type": "code",
   "execution_count": 11,
   "metadata": {},
   "outputs": [
    {
     "data": {
      "text/plain": [
       "71.4166666666667"
      ]
     },
     "execution_count": 11,
     "metadata": {},
     "output_type": "execute_result"
    }
   ],
   "source": [
    "M1.T_expected_value #Mean transit time"
   ]
  },
  {
   "cell_type": "code",
   "execution_count": 12,
   "metadata": {},
   "outputs": [
    {
     "data": {
      "text/plain": [
       "95.45435936730298"
      ]
     },
     "execution_count": 12,
     "metadata": {},
     "output_type": "execute_result"
    }
   ],
   "source": [
    "M1.T_standard_deviation # standard deviation of the transit time distribution"
   ]
  },
  {
   "cell_type": "code",
   "execution_count": 13,
   "metadata": {},
   "outputs": [
    {
     "data": {
      "text/plain": [
       "35.14291412333978"
      ]
     },
     "execution_count": 13,
     "metadata": {},
     "output_type": "execute_result"
    }
   ],
   "source": [
    "M1.T_quantile(0.5) # Median (50% quantile) of the transit time distribution"
   ]
  },
  {
   "cell_type": "code",
   "execution_count": 14,
   "metadata": {},
   "outputs": [
    {
     "data": {
      "text/plain": [
       "Matrix([\n",
       "[            1.25],\n",
       "[100.076291079812]])"
      ]
     },
     "execution_count": 14,
     "metadata": {},
     "output_type": "execute_result"
    }
   ],
   "source": [
    "M1.a_expected_value # Mean age vector of individual pools"
   ]
  },
  {
   "cell_type": "code",
   "execution_count": 15,
   "metadata": {},
   "outputs": [
    {
     "data": {
      "text/plain": [
       "array([ 0.86643398, 69.39194502])"
      ]
     },
     "execution_count": 15,
     "metadata": {},
     "output_type": "execute_result"
    }
   ],
   "source": [
    "M1.a_quantile(0.5) # Median age of individual pools"
   ]
  },
  {
   "cell_type": "code",
   "execution_count": null,
   "metadata": {},
   "outputs": [],
   "source": []
  }
 ],
 "metadata": {
  "kernelspec": {
   "display_name": "Python 3",
   "language": "python",
   "name": "python3"
  },
  "language_info": {
   "codemirror_mode": {
    "name": "ipython",
    "version": 3
   },
   "file_extension": ".py",
   "mimetype": "text/x-python",
   "name": "python",
   "nbconvert_exporter": "python",
   "pygments_lexer": "ipython3",
   "version": "3.8.5"
  }
 },
 "nbformat": 4,
 "nbformat_minor": 4
}
