{
 "cells": [
  {
   "cell_type": "markdown",
   "metadata": {},
   "source": [
    "# Ages and transit time distribution from Century\n",
    "This notebook shows how to use the LAPM package to compute system level metrics for the Century model."
   ]
  },
  {
   "cell_type": "code",
   "execution_count": 1,
   "metadata": {},
   "outputs": [],
   "source": [
    "from sympy import *\n",
    "from LAPM import *\n",
    "from LAPM.linear_autonomous_pool_model import LinearAutonomousPoolModel"
   ]
  },
  {
   "cell_type": "markdown",
   "metadata": {},
   "source": [
    "In the second line above, we imported also the linear_autonomous_pool_model module which contains most of the functions required for the examples in this notebook.\n",
    "We will create now a compartmental representation of Century using the original parameter values described in Parton et al. (1987)."
   ]
  },
  {
   "cell_type": "code",
   "execution_count": 2,
   "metadata": {},
   "outputs": [],
   "source": [
    "lambda_1, lambda_2, alpha, u_1, u_2 = symbols('lambda_1 lambda_2 alpha u_1 u_2', positive=True)\n",
    "A = Matrix([[     -lambda_1,        0],\n",
    "            [alpha*lambda_1, -lambda_2]])\n",
    "u = Matrix(2, 1, [u_1, u_2])"
   ]
  },
  {
   "cell_type": "code",
   "execution_count": 27,
   "metadata": {},
   "outputs": [],
   "source": [
    "B=52*Matrix([[-0.06963691,  0,  0,  0,  0],\n",
    "          [0, -0.35000000,  0,  0,  0], \n",
    "          [0.03133661, 0.19250000, -0.07175000,  0.00159600,  0.00005850],\n",
    "          [0.02089107,  0,  0.04218900, -0.00380000,  0],\n",
    "          [0,  0, 0.00028700,  0.00011400, -0.00013000]])\n",
    "u=52*Matrix(5,1,[0.841, 0.159, 0, 0, 0])"
   ]
  },
  {
   "cell_type": "code",
   "execution_count": 28,
   "metadata": {},
   "outputs": [
    {
     "data": {
      "text/latex": [
       "$\\displaystyle 78.337491144269$"
      ],
      "text/plain": [
       "78.3374911442690"
      ]
     },
     "execution_count": 28,
     "metadata": {},
     "output_type": "execute_result"
    }
   ],
   "source": [
    "M=LinearAutonomousPoolModel(u, B, True)\n",
    "M.A_expected_value"
   ]
  },
  {
   "cell_type": "markdown",
   "metadata": {},
   "source": [
    "Other useful system diagnostics are:"
   ]
  },
  {
   "cell_type": "code",
   "execution_count": 29,
   "metadata": {},
   "outputs": [
    {
     "data": {
      "text/plain": [
       "15.57060390066607"
      ]
     },
     "execution_count": 29,
     "metadata": {},
     "output_type": "execute_result"
    }
   ],
   "source": [
    "M.A_quantile(0.5) # Median (50% quantile) of the system age distribution"
   ]
  },
  {
   "cell_type": "code",
   "execution_count": 30,
   "metadata": {},
   "outputs": [
    {
     "data": {
      "text/latex": [
       "$\\displaystyle 7.62546743605178$"
      ],
      "text/plain": [
       "7.62546743605178"
      ]
     },
     "execution_count": 30,
     "metadata": {},
     "output_type": "execute_result"
    }
   ],
   "source": [
    "M.T_expected_value #Mean transit time"
   ]
  },
  {
   "cell_type": "code",
   "execution_count": 31,
   "metadata": {},
   "outputs": [
    {
     "data": {
      "text/plain": [
       "1.0977125192079393"
      ]
     },
     "execution_count": 31,
     "metadata": {},
     "output_type": "execute_result"
    }
   ],
   "source": [
    "M.T_quantile(0.5) # Median (50% quantile) of the transit time distribution"
   ]
  },
  {
   "cell_type": "code",
   "execution_count": 32,
   "metadata": {},
   "outputs": [
    {
     "data": {
      "text/latex": [
       "$\\displaystyle \\left[\\begin{matrix}0.27615770473976\\\\0.0549450549450546\\\\6.11460255767448\\\\9.0929358946054\\\\156.642763686008\\end{matrix}\\right]$"
      ],
      "text/plain": [
       "Matrix([\n",
       "[  0.27615770473976],\n",
       "[0.0549450549450546],\n",
       "[  6.11460255767448],\n",
       "[   9.0929358946054],\n",
       "[  156.642763686008]])"
      ]
     },
     "execution_count": 32,
     "metadata": {},
     "output_type": "execute_result"
    }
   ],
   "source": [
    "M.a_expected_value # Mean age vector of individual pools"
   ]
  },
  {
   "cell_type": "code",
   "execution_count": 33,
   "metadata": {},
   "outputs": [
    {
     "data": {
      "text/plain": [
       "array([8.27294549e-01, 1.64600674e-01, 1.74317745e+01, 2.24697948e+01,\n",
       "       4.56063939e+02])"
      ]
     },
     "execution_count": 33,
     "metadata": {},
     "output_type": "execute_result"
    }
   ],
   "source": [
    "M.a_quantile(0.95) # Median age of individual pools"
   ]
  },
  {
   "cell_type": "code",
   "execution_count": 34,
   "metadata": {},
   "outputs": [
    {
     "data": {
      "text/plain": [
       "array([1.41650384e-02, 2.81831283e-03, 1.05552122e-01, 6.95805790e-01,\n",
       "       1.35374662e+01])"
      ]
     },
     "execution_count": 34,
     "metadata": {},
     "output_type": "execute_result"
    }
   ],
   "source": [
    "M.a_quantile(0.05)"
   ]
  },
  {
   "cell_type": "code",
   "execution_count": null,
   "metadata": {},
   "outputs": [],
   "source": []
  }
 ],
 "metadata": {
  "kernelspec": {
   "display_name": "Python 3",
   "language": "python",
   "name": "python3"
  },
  "language_info": {
   "codemirror_mode": {
    "name": "ipython",
    "version": 3
   },
   "file_extension": ".py",
   "mimetype": "text/x-python",
   "name": "python",
   "nbconvert_exporter": "python",
   "pygments_lexer": "ipython3",
   "version": "3.8.5"
  }
 },
 "nbformat": 4,
 "nbformat_minor": 4
}
